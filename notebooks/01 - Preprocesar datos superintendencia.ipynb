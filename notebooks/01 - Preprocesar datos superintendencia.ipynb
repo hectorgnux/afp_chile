{
 "cells": [
  {
   "cell_type": "markdown",
   "metadata": {},
   "source": [
    "## Preprocesamiento de datos\n",
    "\n",
    "Este notebook muestra como limpiar y normalizar los valores de cuota de las AFP en Chile. Los datos de los fondos de pensiones fueron descargados desde el sitio web de la [Superintendencia de Pensiones](https://www.spensiones.cl/apps/valoresCuotaFondo/vcfAFP.php)"
   ]
  },
  {
   "cell_type": "code",
   "execution_count": 1,
   "metadata": {},
   "outputs": [],
   "source": [
    "import pandas as pd\n",
    "import numpy as np\n",
    "import os\n",
    "import re\n",
    "import requests\n",
    "\n",
    "from datetime import datetime"
   ]
  },
  {
   "cell_type": "markdown",
   "metadata": {},
   "source": [
    "## Descargar los datos actualizados desde el sitio web"
   ]
  },
  {
   "cell_type": "code",
   "execution_count": 2,
   "metadata": {},
   "outputs": [
    {
     "data": {
      "text/html": [
       "<div>\n",
       "<style scoped>\n",
       "    .dataframe tbody tr th:only-of-type {\n",
       "        vertical-align: middle;\n",
       "    }\n",
       "\n",
       "    .dataframe tbody tr th {\n",
       "        vertical-align: top;\n",
       "    }\n",
       "\n",
       "    .dataframe thead th {\n",
       "        text-align: right;\n",
       "    }\n",
       "</style>\n",
       "<table border=\"1\" class=\"dataframe\">\n",
       "  <thead>\n",
       "    <tr style=\"text-align: right;\">\n",
       "      <th></th>\n",
       "      <th>fondo</th>\n",
       "      <th>URL</th>\n",
       "    </tr>\n",
       "  </thead>\n",
       "  <tbody>\n",
       "    <tr>\n",
       "      <th>0</th>\n",
       "      <td>A</td>\n",
       "      <td>https://www.spensiones.cl/apps/valoresCuotaFon...</td>\n",
       "    </tr>\n",
       "    <tr>\n",
       "      <th>1</th>\n",
       "      <td>B</td>\n",
       "      <td>https://www.spensiones.cl/apps/valoresCuotaFon...</td>\n",
       "    </tr>\n",
       "    <tr>\n",
       "      <th>2</th>\n",
       "      <td>C</td>\n",
       "      <td>https://www.spensiones.cl/apps/valoresCuotaFon...</td>\n",
       "    </tr>\n",
       "    <tr>\n",
       "      <th>3</th>\n",
       "      <td>D</td>\n",
       "      <td>https://www.spensiones.cl/apps/valoresCuotaFon...</td>\n",
       "    </tr>\n",
       "    <tr>\n",
       "      <th>4</th>\n",
       "      <td>E</td>\n",
       "      <td>https://www.spensiones.cl/apps/valoresCuotaFon...</td>\n",
       "    </tr>\n",
       "  </tbody>\n",
       "</table>\n",
       "</div>"
      ],
      "text/plain": [
       "  fondo                                                URL\n",
       "0     A  https://www.spensiones.cl/apps/valoresCuotaFon...\n",
       "1     B  https://www.spensiones.cl/apps/valoresCuotaFon...\n",
       "2     C  https://www.spensiones.cl/apps/valoresCuotaFon...\n",
       "3     D  https://www.spensiones.cl/apps/valoresCuotaFon...\n",
       "4     E  https://www.spensiones.cl/apps/valoresCuotaFon..."
      ]
     },
     "execution_count": 2,
     "metadata": {},
     "output_type": "execute_result"
    }
   ],
   "source": [
    "dataDir = '../data'\n",
    "today = datetime.today()\n",
    "\n",
    "dataFileDF = pd.DataFrame([{'fondo':'A', 'URL':'https://www.spensiones.cl/apps/valoresCuotaFondo/vcfAFPxls.php?tf={}&aaaaini=0000&aaaafin={}&fecconf={}'.format('A', today.strftime(\"%Y\"), today.strftime(\"%Y%m%d\"))},\n",
    "                          {'fondo':'B', 'URL':'https://www.spensiones.cl/apps/valoresCuotaFondo/vcfAFPxls.php?tf={}&aaaaini=0000&aaaafin={}&fecconf={}'.format('B', today.strftime(\"%Y\"), today.strftime(\"%Y%m%d\"))},\n",
    "                          {'fondo':'C', 'URL':'https://www.spensiones.cl/apps/valoresCuotaFondo/vcfAFPxls.php?tf={}&aaaaini=0000&aaaafin={}&fecconf={}'.format('C', today.strftime(\"%Y\"), today.strftime(\"%Y%m%d\"))},\n",
    "                          {'fondo':'D', 'URL':'https://www.spensiones.cl/apps/valoresCuotaFondo/vcfAFPxls.php?tf={}&aaaaini=0000&aaaafin={}&fecconf={}'.format('D', today.strftime(\"%Y\"), today.strftime(\"%Y%m%d\"))},\n",
    "                          {'fondo':'E', 'URL':'https://www.spensiones.cl/apps/valoresCuotaFondo/vcfAFPxls.php?tf={}&aaaaini=0000&aaaafin={}&fecconf={}'.format('E', today.strftime(\"%Y\"), today.strftime(\"%Y%m%d\"))}])\n",
    "\n",
    "dataFileDF.head()"
   ]
  },
  {
   "cell_type": "code",
   "execution_count": 3,
   "metadata": {},
   "outputs": [
    {
     "name": "stdout",
     "output_type": "stream",
     "text": [
      "Downloading URL:  https://www.spensiones.cl/apps/valoresCuotaFondo/vcfAFPxls.php?tf=A&aaaaini=0000&aaaafin=2020&fecconf=20200517\n",
      "Downloading URL:  https://www.spensiones.cl/apps/valoresCuotaFondo/vcfAFPxls.php?tf=B&aaaaini=0000&aaaafin=2020&fecconf=20200517\n",
      "Downloading URL:  https://www.spensiones.cl/apps/valoresCuotaFondo/vcfAFPxls.php?tf=C&aaaaini=0000&aaaafin=2020&fecconf=20200517\n",
      "Downloading URL:  https://www.spensiones.cl/apps/valoresCuotaFondo/vcfAFPxls.php?tf=D&aaaaini=0000&aaaafin=2020&fecconf=20200517\n",
      "Downloading URL:  https://www.spensiones.cl/apps/valoresCuotaFondo/vcfAFPxls.php?tf=E&aaaaini=0000&aaaafin=2020&fecconf=20200517\n"
     ]
    }
   ],
   "source": [
    "for index, rowFile in dataFileDF.iterrows():\n",
    "    \n",
    "    url = rowFile['URL']\n",
    "    print(\"Downloading URL: \", url)\n",
    "    r = requests.get(url)\n",
    "    if r.status_code == 200:\n",
    "        content = r.headers['content-disposition']\n",
    "        \n",
    "        fileName = re.findall(\"filename=(.+\\.\\w{3})\", content)[0]\n",
    "        fileName = os.path.join(dataDir, fileName)\n",
    "        \n",
    "        with open(fileName, 'wb') as f:\n",
    "            f.write(r.content)\n",
    "            dataFileDF.loc[index, 'fileName'] = fileName"
   ]
  },
  {
   "cell_type": "markdown",
   "metadata": {},
   "source": [
    "## Creamos la carpeta results para guardar el output"
   ]
  },
  {
   "cell_type": "code",
   "execution_count": 4,
   "metadata": {},
   "outputs": [],
   "source": [
    "if not os.path.exists('../results'):\n",
    "    os.mkdir('../results')"
   ]
  },
  {
   "cell_type": "code",
   "execution_count": 5,
   "metadata": {},
   "outputs": [
    {
     "name": "stdout",
     "output_type": "stream",
     "text": [
      "Processing file:  ../data/vcfA2020-2020.csv\n",
      "Processing file:  ../data/vcfB2020-2020.csv\n",
      "Processing file:  ../data/vcfC2020-2020.csv\n",
      "Processing file:  ../data/vcfD2020-2020.csv\n",
      "Processing file:  ../data/vcfE2020-2020.csv\n"
     ]
    }
   ],
   "source": [
    "reHeader = re.compile(r'^Fecha.*')\n",
    "reData = re.compile(r'^\\d{4}-\\d{2}-\\d{2}.*')\n",
    "       \n",
    "dataList=[]\n",
    "for index, rowFile in dataFileDF.iterrows():\n",
    "    \n",
    "    print(\"Processing file: \", rowFile['fileName'])\n",
    "    \n",
    "    dataRaw = []\n",
    "    with open(rowFile['fileName'], 'r') as f:\n",
    "        for line in f:\n",
    "            #print(line)\n",
    "            matchHeader = reHeader.match(line)\n",
    "            matchData = reData.match(line)\n",
    "            if matchHeader:\n",
    "                headerRaw = matchHeader.group(0)\n",
    "            if matchData:\n",
    "                dataRaw.append(matchData.group(0))\n",
    "                \n",
    "    header = headerRaw.split(';')\n",
    "    \n",
    "    for rowData in dataRaw:\n",
    "        rowValues = rowData.split(';')\n",
    "                \n",
    "        for i in range(1, len(header), 2):\n",
    "            dataDict={'fecha': datetime.strptime(rowValues[0], '%Y-%m-%d'),\n",
    "                      'fondo':rowFile['fondo'] }\n",
    "\n",
    "            dataDict['administradora'] = header[i]\n",
    "            if re.match(\"[0-9]+\\..*\", rowValues[i]):\n",
    "                dataDict['valor cuota'] = float(rowValues[i].replace('.','').replace(',','.'))\n",
    "            else:\n",
    "                dataDict['valor cuota'] = np.nan\n",
    "            if re.match(\"[0-9]+.*\", rowValues[i]):\n",
    "                dataDict['valor patrimonio'] = float(rowValues[i+1])\n",
    "            else:\n",
    "                dataDict['valor cuota'] = np.nan\n",
    "            \n",
    "            dataList.append(dataDict)\n",
    "           \n",
    "dataDF = pd.DataFrame(dataList)"
   ]
  },
  {
   "cell_type": "code",
   "execution_count": 6,
   "metadata": {},
   "outputs": [
    {
     "data": {
      "text/html": [
       "<div>\n",
       "<style scoped>\n",
       "    .dataframe tbody tr th:only-of-type {\n",
       "        vertical-align: middle;\n",
       "    }\n",
       "\n",
       "    .dataframe tbody tr th {\n",
       "        vertical-align: top;\n",
       "    }\n",
       "\n",
       "    .dataframe thead th {\n",
       "        text-align: right;\n",
       "    }\n",
       "</style>\n",
       "<table border=\"1\" class=\"dataframe\">\n",
       "  <thead>\n",
       "    <tr style=\"text-align: right;\">\n",
       "      <th></th>\n",
       "      <th>fecha</th>\n",
       "      <th>fondo</th>\n",
       "      <th>administradora</th>\n",
       "      <th>valor cuota</th>\n",
       "      <th>valor patrimonio</th>\n",
       "    </tr>\n",
       "  </thead>\n",
       "  <tbody>\n",
       "    <tr>\n",
       "      <th>1036</th>\n",
       "      <td>2020-05-14</td>\n",
       "      <td>A</td>\n",
       "      <td>CAPITAL</td>\n",
       "      <td>42856.48</td>\n",
       "      <td>3.573940e+12</td>\n",
       "    </tr>\n",
       "    <tr>\n",
       "      <th>1037</th>\n",
       "      <td>2020-05-14</td>\n",
       "      <td>A</td>\n",
       "      <td>CUPRUM</td>\n",
       "      <td>44801.50</td>\n",
       "      <td>4.228340e+12</td>\n",
       "    </tr>\n",
       "    <tr>\n",
       "      <th>1038</th>\n",
       "      <td>2020-05-14</td>\n",
       "      <td>A</td>\n",
       "      <td>HABITAT</td>\n",
       "      <td>45937.67</td>\n",
       "      <td>5.449985e+12</td>\n",
       "    </tr>\n",
       "    <tr>\n",
       "      <th>1039</th>\n",
       "      <td>2020-05-14</td>\n",
       "      <td>A</td>\n",
       "      <td>MODELO</td>\n",
       "      <td>43934.86</td>\n",
       "      <td>1.161875e+12</td>\n",
       "    </tr>\n",
       "    <tr>\n",
       "      <th>1040</th>\n",
       "      <td>2020-05-14</td>\n",
       "      <td>A</td>\n",
       "      <td>PLANVITAL</td>\n",
       "      <td>41799.68</td>\n",
       "      <td>4.540230e+11</td>\n",
       "    </tr>\n",
       "    <tr>\n",
       "      <th>1041</th>\n",
       "      <td>2020-05-14</td>\n",
       "      <td>A</td>\n",
       "      <td>PROVIDA</td>\n",
       "      <td>45105.97</td>\n",
       "      <td>3.438223e+12</td>\n",
       "    </tr>\n",
       "    <tr>\n",
       "      <th>1042</th>\n",
       "      <td>2020-05-14</td>\n",
       "      <td>A</td>\n",
       "      <td>UNO</td>\n",
       "      <td>45947.95</td>\n",
       "      <td>2.028721e+10</td>\n",
       "    </tr>\n",
       "  </tbody>\n",
       "</table>\n",
       "</div>"
      ],
      "text/plain": [
       "          fecha fondo administradora  valor cuota  valor patrimonio\n",
       "1036 2020-05-14     A        CAPITAL     42856.48      3.573940e+12\n",
       "1037 2020-05-14     A         CUPRUM     44801.50      4.228340e+12\n",
       "1038 2020-05-14     A        HABITAT     45937.67      5.449985e+12\n",
       "1039 2020-05-14     A         MODELO     43934.86      1.161875e+12\n",
       "1040 2020-05-14     A      PLANVITAL     41799.68      4.540230e+11\n",
       "1041 2020-05-14     A        PROVIDA     45105.97      3.438223e+12\n",
       "1042 2020-05-14     A            UNO     45947.95      2.028721e+10"
      ]
     },
     "execution_count": 6,
     "metadata": {},
     "output_type": "execute_result"
    }
   ],
   "source": [
    "dataDF[dataDF['fondo']=='A'].tail(7)"
   ]
  },
  {
   "cell_type": "code",
   "execution_count": 7,
   "metadata": {},
   "outputs": [],
   "source": [
    "outputFileName = '../results/afp_chile_2020.csv'\n",
    "\n",
    "dataDF.to_csv(outputFileName, index=False)"
   ]
  },
  {
   "cell_type": "code",
   "execution_count": null,
   "metadata": {},
   "outputs": [],
   "source": []
  }
 ],
 "metadata": {
  "kernelspec": {
   "display_name": "afp",
   "language": "python",
   "name": "afp"
  },
  "language_info": {
   "codemirror_mode": {
    "name": "ipython",
    "version": 3
   },
   "file_extension": ".py",
   "mimetype": "text/x-python",
   "name": "python",
   "nbconvert_exporter": "python",
   "pygments_lexer": "ipython3",
   "version": "3.7.7"
  }
 },
 "nbformat": 4,
 "nbformat_minor": 4
}
