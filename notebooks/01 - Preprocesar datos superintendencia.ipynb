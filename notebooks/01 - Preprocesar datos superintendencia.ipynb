{
 "cells": [
  {
   "cell_type": "code",
   "execution_count": 30,
   "metadata": {},
   "outputs": [],
   "source": [
    "import pandas as pd\n",
    "import numpy as np\n",
    "import re\n",
    "import os"
   ]
  },
  {
   "cell_type": "code",
   "execution_count": 4,
   "metadata": {},
   "outputs": [
    {
     "data": {
      "text/html": [
       "<div>\n",
       "<style scoped>\n",
       "    .dataframe tbody tr th:only-of-type {\n",
       "        vertical-align: middle;\n",
       "    }\n",
       "\n",
       "    .dataframe tbody tr th {\n",
       "        vertical-align: top;\n",
       "    }\n",
       "\n",
       "    .dataframe thead th {\n",
       "        text-align: right;\n",
       "    }\n",
       "</style>\n",
       "<table border=\"1\" class=\"dataframe\">\n",
       "  <thead>\n",
       "    <tr style=\"text-align: right;\">\n",
       "      <th></th>\n",
       "      <th>fondo</th>\n",
       "      <th>fileName</th>\n",
       "    </tr>\n",
       "  </thead>\n",
       "  <tbody>\n",
       "    <tr>\n",
       "      <th>0</th>\n",
       "      <td>A</td>\n",
       "      <td>../data/vcfA2020-2020.csv</td>\n",
       "    </tr>\n",
       "    <tr>\n",
       "      <th>1</th>\n",
       "      <td>B</td>\n",
       "      <td>../data/vcfB2020-2020.csv</td>\n",
       "    </tr>\n",
       "    <tr>\n",
       "      <th>2</th>\n",
       "      <td>C</td>\n",
       "      <td>../data/vcfC2020-2020.csv</td>\n",
       "    </tr>\n",
       "    <tr>\n",
       "      <th>3</th>\n",
       "      <td>D</td>\n",
       "      <td>../data/vcfD2020-2020.csv</td>\n",
       "    </tr>\n",
       "    <tr>\n",
       "      <th>4</th>\n",
       "      <td>E</td>\n",
       "      <td>../data/vcfE2020-2020.csv</td>\n",
       "    </tr>\n",
       "  </tbody>\n",
       "</table>\n",
       "</div>"
      ],
      "text/plain": [
       "  fondo                   fileName\n",
       "0     A  ../data/vcfA2020-2020.csv\n",
       "1     B  ../data/vcfB2020-2020.csv\n",
       "2     C  ../data/vcfC2020-2020.csv\n",
       "3     D  ../data/vcfD2020-2020.csv\n",
       "4     E  ../data/vcfE2020-2020.csv"
      ]
     },
     "execution_count": 4,
     "metadata": {},
     "output_type": "execute_result"
    }
   ],
   "source": [
    "dataFileDF = pd.DataFrame([{'fondo':'A', 'fileName':'../data/vcfA2020-2020.csv'},\n",
    "                           {'fondo':'B', 'fileName':'../data/vcfB2020-2020.csv'},\n",
    "                           {'fondo':'C', 'fileName':'../data/vcfC2020-2020.csv'},\n",
    "                           {'fondo':'D', 'fileName':'../data/vcfD2020-2020.csv'},\n",
    "                           {'fondo':'E', 'fileName':'../data/vcfE2020-2020.csv'}])\n",
    "dataFileDF.head()"
   ]
  },
  {
   "cell_type": "code",
   "execution_count": 32,
   "metadata": {},
   "outputs": [],
   "source": [
    "# Creamos la carpeta results para guardar el output\n",
    "\n",
    "if not os.path.exists('../results'):\n",
    "    os.mkdir('../results')"
   ]
  },
  {
   "cell_type": "code",
   "execution_count": 36,
   "metadata": {},
   "outputs": [
    {
     "name": "stdout",
     "output_type": "stream",
     "text": [
      "../data/vcfA2020-2020.csv\n"
     ]
    }
   ],
   "source": [
    "reHeader = re.compile(r'^Fecha.*')\n",
    "reData = re.compile(r'^\\d{4}-\\d{2}-\\d{2}.*')\n",
    "                     \n",
    "for index, row in dataFileDF.iterrows():\n",
    "    if index>0:\n",
    "        continue\n",
    "    print(row['fileName'])\n",
    "    \n",
    "    dataRaw = []\n",
    "    with open(row['fileName'], 'r') as f:\n",
    "        for line in f:\n",
    "            #print(line)\n",
    "            matchHeader = reHeader.match(line)\n",
    "            matchData = reData.match(line)\n",
    "            if matchHeader:\n",
    "                headerRaw = matchHeader.group(0)\n",
    "            if matchData:\n",
    "                dataRaw.append(matchData.group(0))\n",
    "                \n",
    "    with open('../results/dataClean.csv', 'w') as f:\n",
    "        f.write(headerRaw+'\\n')\n",
    "        for line in dataRaw:\n",
    "            f.write(line+'\\n')"
   ]
  },
  {
   "cell_type": "code",
   "execution_count": null,
   "metadata": {},
   "outputs": [],
   "source": []
  }
 ],
 "metadata": {
  "kernelspec": {
   "display_name": "afp",
   "language": "python",
   "name": "afp"
  },
  "language_info": {
   "codemirror_mode": {
    "name": "ipython",
    "version": 3
   },
   "file_extension": ".py",
   "mimetype": "text/x-python",
   "name": "python",
   "nbconvert_exporter": "python",
   "pygments_lexer": "ipython3",
   "version": "3.7.7"
  }
 },
 "nbformat": 4,
 "nbformat_minor": 4
}
