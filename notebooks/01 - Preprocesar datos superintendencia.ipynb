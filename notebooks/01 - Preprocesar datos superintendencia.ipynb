{
 "cells": [
  {
   "cell_type": "markdown",
   "metadata": {},
   "source": [
    "## Preprocesamiento de datos\n",
    "\n",
    "Este notebook muestra como limpiar y normalizar los valores de cuota de las AFP en Chile. Los datos de los fondos de pensiones fueron descargados desde el sitio web de la [Superintendencia de Pensiones](https://www.spensiones.cl/apps/valoresCuotaFondo/vcfAFP.php)"
   ]
  },
  {
   "cell_type": "code",
   "execution_count": 119,
   "metadata": {},
   "outputs": [],
   "source": [
    "import pandas as pd\n",
    "import numpy as np\n",
    "import os\n",
    "import re\n",
    "import requests\n",
    "import time\n",
    "\n",
    "from datetime import datetime\n",
    "\n",
    "pd.set_option('display.max_colwidth', None)"
   ]
  },
  {
   "cell_type": "markdown",
   "metadata": {},
   "source": [
    "## Descargar los datos actualizados desde el sitio web"
   ]
  },
  {
   "cell_type": "code",
   "execution_count": 120,
   "metadata": {},
   "outputs": [
    {
     "data": {
      "text/html": [
       "<div>\n",
       "<style scoped>\n",
       "    .dataframe tbody tr th:only-of-type {\n",
       "        vertical-align: middle;\n",
       "    }\n",
       "\n",
       "    .dataframe tbody tr th {\n",
       "        vertical-align: top;\n",
       "    }\n",
       "\n",
       "    .dataframe thead th {\n",
       "        text-align: right;\n",
       "    }\n",
       "</style>\n",
       "<table border=\"1\" class=\"dataframe\">\n",
       "  <thead>\n",
       "    <tr style=\"text-align: right;\">\n",
       "      <th></th>\n",
       "      <th>year</th>\n",
       "      <th>fondo</th>\n",
       "      <th>URL</th>\n",
       "    </tr>\n",
       "  </thead>\n",
       "  <tbody>\n",
       "    <tr>\n",
       "      <th>0</th>\n",
       "      <td>2020</td>\n",
       "      <td>A</td>\n",
       "      <td>https://www.spensiones.cl/apps/valoresCuotaFondo/vcfAFPxls.php?tf=A&amp;aaaaini=0000&amp;aaaafin=2020&amp;fecconf=20200727</td>\n",
       "    </tr>\n",
       "    <tr>\n",
       "      <th>1</th>\n",
       "      <td>2020</td>\n",
       "      <td>B</td>\n",
       "      <td>https://www.spensiones.cl/apps/valoresCuotaFondo/vcfAFPxls.php?tf=B&amp;aaaaini=0000&amp;aaaafin=2020&amp;fecconf=20200727</td>\n",
       "    </tr>\n",
       "    <tr>\n",
       "      <th>2</th>\n",
       "      <td>2020</td>\n",
       "      <td>C</td>\n",
       "      <td>https://www.spensiones.cl/apps/valoresCuotaFondo/vcfAFPxls.php?tf=C&amp;aaaaini=0000&amp;aaaafin=2020&amp;fecconf=20200727</td>\n",
       "    </tr>\n",
       "    <tr>\n",
       "      <th>3</th>\n",
       "      <td>2020</td>\n",
       "      <td>D</td>\n",
       "      <td>https://www.spensiones.cl/apps/valoresCuotaFondo/vcfAFPxls.php?tf=D&amp;aaaaini=0000&amp;aaaafin=2020&amp;fecconf=20200727</td>\n",
       "    </tr>\n",
       "    <tr>\n",
       "      <th>4</th>\n",
       "      <td>2020</td>\n",
       "      <td>E</td>\n",
       "      <td>https://www.spensiones.cl/apps/valoresCuotaFondo/vcfAFPxls.php?tf=E&amp;aaaaini=0000&amp;aaaafin=2020&amp;fecconf=20200727</td>\n",
       "    </tr>\n",
       "  </tbody>\n",
       "</table>\n",
       "</div>"
      ],
      "text/plain": [
       "   year fondo  \\\n",
       "0  2020     A   \n",
       "1  2020     B   \n",
       "2  2020     C   \n",
       "3  2020     D   \n",
       "4  2020     E   \n",
       "\n",
       "                                                                                                              URL  \n",
       "0  https://www.spensiones.cl/apps/valoresCuotaFondo/vcfAFPxls.php?tf=A&aaaaini=0000&aaaafin=2020&fecconf=20200727  \n",
       "1  https://www.spensiones.cl/apps/valoresCuotaFondo/vcfAFPxls.php?tf=B&aaaaini=0000&aaaafin=2020&fecconf=20200727  \n",
       "2  https://www.spensiones.cl/apps/valoresCuotaFondo/vcfAFPxls.php?tf=C&aaaaini=0000&aaaafin=2020&fecconf=20200727  \n",
       "3  https://www.spensiones.cl/apps/valoresCuotaFondo/vcfAFPxls.php?tf=D&aaaaini=0000&aaaafin=2020&fecconf=20200727  \n",
       "4  https://www.spensiones.cl/apps/valoresCuotaFondo/vcfAFPxls.php?tf=E&aaaaini=0000&aaaafin=2020&fecconf=20200727  "
      ]
     },
     "execution_count": 120,
     "metadata": {},
     "output_type": "execute_result"
    }
   ],
   "source": [
    "dataDir = '../data'\n",
    "today = datetime.today()\n",
    "yearList = np.arange(2020,2021)\n",
    "fondoList = ['A', 'B', 'C', 'D', 'E']\n",
    "dataList = []\n",
    "\n",
    "for year in yearList:\n",
    "    for fondo in fondoList:\n",
    "        dataList.append({'year':year, 'fondo':fondo, 'URL':'https://www.spensiones.cl/apps/valoresCuotaFondo/vcfAFPxls.php?tf={}&aaaaini=0000&aaaafin={}&fecconf={}'.format(fondo, year, today.strftime(\"%Y%m%d\"))})\n",
    "\n",
    "dataFileDF = pd.DataFrame(dataList)\n",
    "dataFileDF.head()"
   ]
  },
  {
   "cell_type": "code",
   "execution_count": 121,
   "metadata": {},
   "outputs": [
    {
     "name": "stdout",
     "output_type": "stream",
     "text": [
      "Downloading URL:  https://www.spensiones.cl/apps/valoresCuotaFondo/vcfAFPxls.php?tf=A&aaaaini=0000&aaaafin=2020&fecconf=20200727\n",
      "Downloading URL:  https://www.spensiones.cl/apps/valoresCuotaFondo/vcfAFPxls.php?tf=B&aaaaini=0000&aaaafin=2020&fecconf=20200727\n",
      "Downloading URL:  https://www.spensiones.cl/apps/valoresCuotaFondo/vcfAFPxls.php?tf=C&aaaaini=0000&aaaafin=2020&fecconf=20200727\n",
      "Downloading URL:  https://www.spensiones.cl/apps/valoresCuotaFondo/vcfAFPxls.php?tf=D&aaaaini=0000&aaaafin=2020&fecconf=20200727\n",
      "Downloading URL:  https://www.spensiones.cl/apps/valoresCuotaFondo/vcfAFPxls.php?tf=E&aaaaini=0000&aaaafin=2020&fecconf=20200727\n"
     ]
    }
   ],
   "source": [
    "for index, rowFile in dataFileDF.iterrows():\n",
    "    \n",
    "    url = rowFile['URL']\n",
    "    print(\"Downloading URL: \", url)\n",
    "    r = requests.get(url)\n",
    "    if r.status_code == 200:\n",
    "        content = r.headers['content-disposition']\n",
    "        \n",
    "        fileName = re.findall(\"filename=(.+\\.\\w{3})\", content)[0]\n",
    "        fileName = os.path.join(dataDir, fileName)\n",
    "        \n",
    "        with open(fileName, 'wb') as f:\n",
    "            f.write(r.content)\n",
    "            dataFileDF.loc[index, 'fileName'] = fileName\n",
    "            \n",
    "        sleepTime = 1+np.random.random(1)[0]\n",
    "        time.sleep(sleepTime)"
   ]
  },
  {
   "cell_type": "markdown",
   "metadata": {},
   "source": [
    "## Creamos la carpeta results para guardar el output"
   ]
  },
  {
   "cell_type": "code",
   "execution_count": 122,
   "metadata": {},
   "outputs": [],
   "source": [
    "if not os.path.exists('../results'):\n",
    "    os.mkdir('../results')"
   ]
  },
  {
   "cell_type": "code",
   "execution_count": 123,
   "metadata": {},
   "outputs": [
    {
     "name": "stdout",
     "output_type": "stream",
     "text": [
      "Processing file:  ../data/vcfA2020-2020.csv\n",
      "0 1 208\n",
      "1 214 26\n",
      "Processing file:  ../data/vcfB2020-2020.csv\n",
      "0 1 208\n",
      "1 214 26\n",
      "Processing file:  ../data/vcfC2020-2020.csv\n",
      "0 1 208\n",
      "1 214 26\n",
      "Processing file:  ../data/vcfD2020-2020.csv\n",
      "0 1 208\n",
      "1 214 26\n",
      "Processing file:  ../data/vcfE2020-2020.csv\n",
      "0 1 208\n",
      "1 214 26\n"
     ]
    }
   ],
   "source": [
    "reBlock = re.compile(r'^Valores.*')\n",
    "reHeader = re.compile(r'^Fecha.*')\n",
    "reData = re.compile(r'^\\d{4}-\\d{2}-\\d{2}.*')\n",
    "      \n",
    "dataList = []\n",
    "for index, rowFile in dataFileDF.iterrows():\n",
    "    \n",
    "    print(\"Processing file: \", rowFile['fileName'])\n",
    "\n",
    "    blockIdx=0\n",
    "    dataRaw = []\n",
    "    dataRawList=[]\n",
    "    \n",
    "    with open(rowFile['fileName'], 'r') as f:\n",
    "        for lineIdx, line in enumerate(f):\n",
    "            matchBlock = reBlock.match(line)\n",
    "            matchHeader = reHeader.match(line)\n",
    "            matchData = reData.match(line)\n",
    "            if matchBlock:\n",
    "                if len(dataRaw) > 0:\n",
    "                    dataDict['headerRaw'] = headerRaw\n",
    "                    dataDict['dataRaw'] = dataRaw\n",
    "                    dataRawList.append(dataDict)\n",
    "                    dataRaw = []\n",
    "\n",
    "                dataDict = {'blockIdx':blockIdx, 'lineIdx':lineIdx}\n",
    "                blockIdx = blockIdx+1\n",
    "                \n",
    "            if matchHeader:\n",
    "                headerRaw = matchHeader.group(0)\n",
    "                \n",
    "            if matchData:\n",
    "                dataRaw.append(matchData.group(0))\n",
    "                \n",
    "    dataDict['headerRaw'] = headerRaw\n",
    "    dataDict['dataRaw'] = dataRaw\n",
    "    dataRawList.append(dataDict)\n",
    "    dataRaw = []\n",
    "    \n",
    "    for item in dataRawList:\n",
    "        print(item['blockIdx'], item['lineIdx'], len(item['dataRaw']))\n",
    "        \n",
    "        header = item['headerRaw'].split(';')\n",
    "        #print(\"header, len={}\".format(len(header)))\n",
    "        #print(header)\n",
    "\n",
    "        for rowData in item['dataRaw']:\n",
    "            rowValues = rowData.split(';')\n",
    "\n",
    "            #print(\"rowValues, len={}\".format(len(rowValues)))\n",
    "\n",
    "            for i in range(1, len(header), 2):\n",
    "                dataDict={'fecha': datetime.strptime(rowValues[0], '%Y-%m-%d'),\n",
    "                          'fondo':rowFile['fondo'] }\n",
    "\n",
    "                dataDict['administradora'] = header[i]\n",
    "                if re.match(\"[0-9]+\\..*\", rowValues[i]):\n",
    "                    dataDict['valor cuota'] = float(rowValues[i].replace('.','').replace(',','.'))\n",
    "                else:\n",
    "                    dataDict['valor cuota'] = np.nan\n",
    "                if re.match(\"[0-9]+.*\", rowValues[i]):\n",
    "                    dataDict['valor patrimonio'] = float(rowValues[i+1])\n",
    "                else:\n",
    "                    dataDict['valor cuota'] = np.nan\n",
    "\n",
    "                dataList.append(dataDict)\n",
    "                \n",
    "dataDF = pd.DataFrame(dataList)"
   ]
  },
  {
   "cell_type": "code",
   "execution_count": 124,
   "metadata": {},
   "outputs": [
    {
     "data": {
      "text/html": [
       "<div>\n",
       "<style scoped>\n",
       "    .dataframe tbody tr th:only-of-type {\n",
       "        vertical-align: middle;\n",
       "    }\n",
       "\n",
       "    .dataframe tbody tr th {\n",
       "        vertical-align: top;\n",
       "    }\n",
       "\n",
       "    .dataframe thead th {\n",
       "        text-align: right;\n",
       "    }\n",
       "</style>\n",
       "<table border=\"1\" class=\"dataframe\">\n",
       "  <thead>\n",
       "    <tr style=\"text-align: right;\">\n",
       "      <th></th>\n",
       "      <th>fecha</th>\n",
       "      <th>fondo</th>\n",
       "      <th>administradora</th>\n",
       "      <th>valor cuota</th>\n",
       "      <th>valor patrimonio</th>\n",
       "    </tr>\n",
       "  </thead>\n",
       "  <tbody>\n",
       "    <tr>\n",
       "      <th>1631</th>\n",
       "      <td>2020-07-26</td>\n",
       "      <td>A</td>\n",
       "      <td>CAPITAL</td>\n",
       "      <td>46944.46</td>\n",
       "      <td>3.711060e+12</td>\n",
       "    </tr>\n",
       "    <tr>\n",
       "      <th>1632</th>\n",
       "      <td>2020-07-26</td>\n",
       "      <td>A</td>\n",
       "      <td>CUPRUM</td>\n",
       "      <td>49070.72</td>\n",
       "      <td>4.687510e+12</td>\n",
       "    </tr>\n",
       "    <tr>\n",
       "      <th>1633</th>\n",
       "      <td>2020-07-26</td>\n",
       "      <td>A</td>\n",
       "      <td>HABITAT</td>\n",
       "      <td>49998.98</td>\n",
       "      <td>5.818176e+12</td>\n",
       "    </tr>\n",
       "    <tr>\n",
       "      <th>1634</th>\n",
       "      <td>2020-07-26</td>\n",
       "      <td>A</td>\n",
       "      <td>MODELO</td>\n",
       "      <td>48460.19</td>\n",
       "      <td>1.215341e+12</td>\n",
       "    </tr>\n",
       "    <tr>\n",
       "      <th>1635</th>\n",
       "      <td>2020-07-26</td>\n",
       "      <td>A</td>\n",
       "      <td>PLANVITAL</td>\n",
       "      <td>45711.47</td>\n",
       "      <td>5.158212e+11</td>\n",
       "    </tr>\n",
       "    <tr>\n",
       "      <th>1636</th>\n",
       "      <td>2020-07-26</td>\n",
       "      <td>A</td>\n",
       "      <td>PROVIDA</td>\n",
       "      <td>49685.27</td>\n",
       "      <td>3.893785e+12</td>\n",
       "    </tr>\n",
       "    <tr>\n",
       "      <th>1637</th>\n",
       "      <td>2020-07-26</td>\n",
       "      <td>A</td>\n",
       "      <td>UNO</td>\n",
       "      <td>NaN</td>\n",
       "      <td>NaN</td>\n",
       "    </tr>\n",
       "  </tbody>\n",
       "</table>\n",
       "</div>"
      ],
      "text/plain": [
       "          fecha fondo administradora  valor cuota  valor patrimonio\n",
       "1631 2020-07-26     A        CAPITAL     46944.46      3.711060e+12\n",
       "1632 2020-07-26     A         CUPRUM     49070.72      4.687510e+12\n",
       "1633 2020-07-26     A        HABITAT     49998.98      5.818176e+12\n",
       "1634 2020-07-26     A         MODELO     48460.19      1.215341e+12\n",
       "1635 2020-07-26     A      PLANVITAL     45711.47      5.158212e+11\n",
       "1636 2020-07-26     A        PROVIDA     49685.27      3.893785e+12\n",
       "1637 2020-07-26     A            UNO          NaN               NaN"
      ]
     },
     "execution_count": 124,
     "metadata": {},
     "output_type": "execute_result"
    }
   ],
   "source": [
    "dataDF[dataDF['fondo']=='A'].tail(7)"
   ]
  },
  {
   "cell_type": "code",
   "execution_count": 125,
   "metadata": {},
   "outputs": [
    {
     "name": "stdout",
     "output_type": "stream",
     "text": [
      "8190\n"
     ]
    }
   ],
   "source": [
    "print(len(dataDF))"
   ]
  },
  {
   "cell_type": "code",
   "execution_count": 126,
   "metadata": {},
   "outputs": [],
   "source": [
    "outputFileName = '../results/afp_chile_2020.csv'\n",
    "\n",
    "dataDF.to_csv(outputFileName, index=False)"
   ]
  },
  {
   "cell_type": "code",
   "execution_count": null,
   "metadata": {},
   "outputs": [],
   "source": []
  }
 ],
 "metadata": {
  "kernelspec": {
   "display_name": "afp",
   "language": "python",
   "name": "afp"
  },
  "language_info": {
   "codemirror_mode": {
    "name": "ipython",
    "version": 3
   },
   "file_extension": ".py",
   "mimetype": "text/x-python",
   "name": "python",
   "nbconvert_exporter": "python",
   "pygments_lexer": "ipython3",
   "version": "3.7.7"
  }
 },
 "nbformat": 4,
 "nbformat_minor": 4
}
